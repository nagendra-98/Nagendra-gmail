{
  "cells": [
    {
      "cell_type": "markdown",
      "metadata": {
        "id": "view-in-github",
        "colab_type": "text"
      },
      "source": [
        "<a href=\"https://colab.research.google.com/github/nagendra-98/Nagendra-gmail/blob/main/Task_10.ipynb\" target=\"_parent\"><img src=\"https://colab.research.google.com/assets/colab-badge.svg\" alt=\"Open In Colab\"/></a>"
      ]
    },
    {
      "cell_type": "code",
      "execution_count": null,
      "metadata": {
        "id": "dfn3O9oHTpzk"
      },
      "outputs": [],
      "source": [
        "import pandas as pd\n",
        "import numpy as np\n",
        "import matplotlib.pyplot as plt\n"
      ]
    },
    {
      "cell_type": "code",
      "execution_count": null,
      "metadata": {
        "id": "iW5SrBcRUqn0"
      },
      "outputs": [],
      "source": [
        "\n"
      ]
    },
    {
      "cell_type": "code",
      "execution_count": null,
      "metadata": {
        "id": "PT6jyedkUq38"
      },
      "outputs": [],
      "source": [
        "class Registration:\n",
        "  def __init__(self):\n",
        "    f = open(\"Registration.txt\",\"a\")\n",
        "    f.close()\n",
        "\n",
        "  def record(self):\n",
        "    f = open(\"Registration.txt\",\"r\")\n",
        "    e = []\n",
        "    p = []\n",
        "    for i in f:\n",
        "      a,b= i.split(\",\")\n",
        "      e.append(a)\n",
        "      b=b.strip()\n",
        "      p.append(b)\n",
        "    dict1 = dict(zip(e,p))\n",
        "    return dict1\n",
        "\n",
        "  def reg_User(self,email,password):\n",
        "    d = self.record()\n",
        "    if email in d.keys():\n",
        "      print(\"User already exists\")\n",
        "      return\n",
        "    flag = 0 \n",
        "\n",
        "    if '@.' in email or '@' not in email or email[0]=='@' or '.' not in email:\n",
        "      flag = 1\n",
        "      print(\"Error.\\n Enter valid email\")\n",
        "    if len(password) <=5 or len(password) >=16:\n",
        "      flag = 2\n",
        "      print(\"Error.\\n Length of the password should be between 5 and 16 characters\")\n",
        "\n",
        "    if (flag ==0):\n",
        "      #self.df_table = self.df_table.append({'Name' : self.name, 'Email' : self.email, 'Password' : self.password},ignore_index=True)\n",
        "      file_reg  = open(\"Registration.txt\", \"a\")\n",
        "      file_reg.write(email + \",\" + password +\"\\n\")\n",
        "      file_reg.close()\n",
        "      print(\"User Registered successfully\")\n",
        "\n",
        "  def login(self,email,password):\n",
        "    d = self.record()\n",
        "    if email in d.keys():\n",
        "      if d[email] == password:\n",
        "        print(\"You have logged in successfully\")\n",
        "      else:\n",
        "        print(\"Password is incorrect. If you have forgotten your password, enter 1 else enter 0 to exit\")\n",
        "        if int(input())==1:\n",
        "          print(f\"Your password is {d[email]}\")\n",
        "        else:\n",
        "          print(\"Bye.\")\n",
        "    else:\n",
        "      print(\"User not registered. PLease register\")\n",
        "     \n"
      ]
    },
    {
      "cell_type": "code",
      "execution_count": null,
      "metadata": {
        "colab": {
          "base_uri": "https://localhost:8080/"
        },
        "id": "MFpg8KHkUpmd",
        "outputId": "d2317529-3220-4db2-85b4-ca46fb73220c"
      },
      "outputs": [
        {
          "output_type": "stream",
          "name": "stdout",
          "text": [
            "User already exists\n",
            "User already exists\n"
          ]
        }
      ],
      "source": [
        "# Registration of two users\n",
        "user1 = Registration()\n",
        "user1.reg_User('bejay@gmail.com','363345')\n",
        "user2 = Registration()\n",
        "user2.reg_User('emmawatson1990@gmail.com','hell1o')\n",
        "\n",
        "\n",
        "    \n",
        "\n",
        "\n",
        "     "
      ]
    },
    {
      "cell_type": "code",
      "execution_count": null,
      "metadata": {
        "colab": {
          "base_uri": "https://localhost:8080/"
        },
        "id": "wiW8ZEiSURY4",
        "outputId": "55e53783-91bc-45f4-f6a2-725a7031d5f4"
      },
      "outputs": [
        {
          "output_type": "stream",
          "name": "stdout",
          "text": [
            "You have logged in successfully\n"
          ]
        }
      ],
      "source": [
        "# Login correct\n",
        "Registration().login('bejay@gmail.com','363345')"
      ]
    },
    {
      "cell_type": "code",
      "execution_count": null,
      "metadata": {
        "colab": {
          "base_uri": "https://localhost:8080/"
        },
        "id": "00fOtuOUUReB",
        "outputId": "91804e1e-51b1-4cce-fec1-9450ea95d85d"
      },
      "outputs": [
        {
          "output_type": "stream",
          "name": "stdout",
          "text": [
            "User not registered. PLease register\n"
          ]
        }
      ],
      "source": [
        "# Login incorrect: No username\n",
        "Registration().login('beajay@gmail.com','363345')"
      ]
    },
    {
      "cell_type": "code",
      "execution_count": null,
      "metadata": {
        "id": "vM038ZzcURhP",
        "colab": {
          "base_uri": "https://localhost:8080/"
        },
        "outputId": "6364b86e-4438-4f49-eed8-963c9b56bcd6"
      },
      "outputs": [
        {
          "output_type": "stream",
          "name": "stdout",
          "text": [
            "Password is incorrect. If you have forgotten your password, enter 1 else enter 0 to exit\n",
            "1\n",
            "Your password is hell1o\n"
          ]
        }
      ],
      "source": [
        "#Login incorrect password\n",
        "Registration().login('emmawatson1990@gmail.com','hello')\n"
      ]
    },
    {
      "cell_type": "code",
      "execution_count": null,
      "metadata": {
        "id": "h8lipNYbURml",
        "colab": {
          "base_uri": "https://localhost:8080/"
        },
        "outputId": "dd2ceef1-9719-4a34-b2fd-5e389fb7aae7"
      },
      "outputs": [
        {
          "output_type": "stream",
          "name": "stdout",
          "text": [
            "Password is incorrect. If you have forgotten your password, enter 1 else enter 0 to exit\n",
            "1\n",
            "Your password is hell1o\n"
          ]
        }
      ],
      "source": [
        "#Login incorrect password, forgot password\n",
        "Registration().login('emmawatson1990@gmail.com','hello')"
      ]
    },
    {
      "cell_type": "code",
      "execution_count": null,
      "metadata": {
        "id": "yF--Sl04URpr"
      },
      "outputs": [],
      "source": []
    },
    {
      "cell_type": "code",
      "execution_count": null,
      "metadata": {
        "id": "5Nry2xw8URsY"
      },
      "outputs": [],
      "source": []
    },
    {
      "cell_type": "code",
      "execution_count": null,
      "metadata": {
        "id": "hdaaU9eyURvk"
      },
      "outputs": [],
      "source": []
    },
    {
      "cell_type": "code",
      "execution_count": null,
      "metadata": {
        "id": "JXvmCoqqURys"
      },
      "outputs": [],
      "source": []
    },
    {
      "cell_type": "code",
      "execution_count": null,
      "metadata": {
        "id": "shCQL_HyUR2S"
      },
      "outputs": [],
      "source": []
    }
  ],
  "metadata": {
    "colab": {
      "provenance": [],
      "authorship_tag": "ABX9TyMBzfe0/1K+gBd/pA4sqQwd",
      "include_colab_link": true
    },
    "kernelspec": {
      "display_name": "Python 3",
      "name": "python3"
    },
    "language_info": {
      "name": "python"
    }
  },
  "nbformat": 4,
  "nbformat_minor": 0
}